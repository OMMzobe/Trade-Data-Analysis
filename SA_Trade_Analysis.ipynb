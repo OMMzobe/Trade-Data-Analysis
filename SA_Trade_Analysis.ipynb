{
  "cells": [
    {
      "cell_type": "markdown",
      "source": [
        "**Importing Packages**"
      ],
      "metadata": {
        "id": "GMh-XBDetauv"
      }
    },
    {
      "cell_type": "code",
      "execution_count": 1,
      "metadata": {
        "id": "UXAqlCGToY5N"
      },
      "outputs": [],
      "source": [
        "# Import libraries\n",
        "import pandas as pd\n",
        "import matplotlib.pyplot as plt\n",
        "import seaborn as sns\n",
        "from sqlalchemy import create_engine"
      ]
    },
    {
      "cell_type": "markdown",
      "source": [
        "**Loading Data**"
      ],
      "metadata": {
        "id": "FBGGjnqutwMz"
      }
    },
    {
      "cell_type": "code",
      "source": [
        "import pandas as pd\n",
        "\n",
        "# Load the data\n",
        "# Check if the file exists in the current directory or specify the full file path\n",
        "file_path = 'Import Export Trade Data Africa.csv'  # If the file is in the same directory as the notebook\n",
        "# OR\n",
        "# file_path = '/path/to/your/file/Import Export Trade Data Africa.csv' # Replace with the actual path if the file is located elsewhere\n",
        "\n",
        "data = pd.read_csv(file_path)\n",
        "\n",
        "# Preview the data\n",
        "print(data.info())\n",
        "print(data.head())"
      ],
      "metadata": {
        "colab": {
          "base_uri": "https://localhost:8080/"
        },
        "id": "bPJU_WHtsUFI",
        "outputId": "df0ba4f6-a7ab-4137-dd5c-783fb32fb9cc"
      },
      "execution_count": 4,
      "outputs": [
        {
          "output_type": "stream",
          "name": "stdout",
          "text": [
            "<class 'pandas.core.frame.DataFrame'>\n",
            "RangeIndex: 22 entries, 0 to 21\n",
            "Data columns (total 34 columns):\n",
            " #   Column                 Non-Null Count  Dtype  \n",
            "---  ------                 --------------  -----  \n",
            " 0   DATE                   22 non-null     object \n",
            " 1   TYPE                   22 non-null     object \n",
            " 2   CPC DESCRIPTION        22 non-null     object \n",
            " 3   EXPORTER NAME          22 non-null     object \n",
            " 4   IMPORTER NAME          22 non-null     object \n",
            " 5   DECLARANT NAME         22 non-null     object \n",
            " 6   Origin Country         22 non-null     object \n",
            " 7   Destination Country    22 non-null     object \n",
            " 8   HS CODE                22 non-null     int64  \n",
            " 9   HS CODE DESCRIPTION    22 non-null     object \n",
            " 10  QUANTITY UOM           22 non-null     object \n",
            " 11  QUANTITY               22 non-null     float64\n",
            " 12  NO OF PACKAGE TYPE     22 non-null     int64  \n",
            " 13  GROSS WEIGHT           22 non-null     float64\n",
            " 14  GROSS WEIGHT UOM       22 non-null     object \n",
            " 15  NET WEIGHT             22 non-null     float64\n",
            " 16  NET WEIGHT UOM         22 non-null     object \n",
            " 17  PACKAGE TYPE           22 non-null     object \n",
            " 18  CUSTOMS VALUE BWP      22 non-null     float64\n",
            " 19  DECLARATION OFFICE     22 non-null     object \n",
            " 20  INVOICE AMOUNT BWP     22 non-null     float64\n",
            " 21  FREIGHT BWP            22 non-null     float64\n",
            " 22  REGIME                 22 non-null     int64  \n",
            " 23  ITEM NO                22 non-null     int64  \n",
            " 24  PORT OF ENTRY          22 non-null     object \n",
            " 25  PLACE OF DISCHARGE     22 non-null     object \n",
            " 26  CPC CODE               22 non-null     int64  \n",
            " 27  CPC GROUP CODE         22 non-null     int64  \n",
            " 28  Chapter                22 non-null     int64  \n",
            " 29  HEADING                22 non-null     int64  \n",
            " 30  SUB HEADING            22 non-null     int64  \n",
            " 31  CPC GROUP DESCRIPTION  22 non-null     object \n",
            " 32  MONTH                  22 non-null     object \n",
            " 33  YEAR                   22 non-null     int64  \n",
            "dtypes: float64(6), int64(10), object(18)\n",
            "memory usage: 6.0+ KB\n",
            "None\n",
            "         DATE    TYPE                        CPC DESCRIPTION  \\\n",
            "0  01/11/2019  Export  Direct Exports of home produced goods   \n",
            "1  01/11/2019  Export  Direct Exports of home produced goods   \n",
            "2  01/11/2019  Export  Direct Exports of home produced goods   \n",
            "3  01/11/2019  Export  Direct Exports of home produced goods   \n",
            "4  01/11/2019  Export  Direct Exports of home produced goods   \n",
            "\n",
            "                                 EXPORTER NAME  \\\n",
            "0  ALVIN INVESTMENTS,PLOT 2167,KASANE,BOTSWANA   \n",
            "1  ALVIN INVESTMENTS,PLOT 2167,KASANE,BOTSWANA   \n",
            "2  ALVIN INVESTMENTS,PLOT 2167,KASANE,BOTSWANA   \n",
            "3  ALVIN INVESTMENTS,PLOT 2167,KASANE,BOTSWANA   \n",
            "4  ALVIN INVESTMENTS,PLOT 2167,KASANE,BOTSWANA   \n",
            "\n",
            "                                       IMPORTER NAME  \\\n",
            "0  CHOBE WATER VILLAS,KASEKA CONSERVANCY,MPACHA,N...   \n",
            "1  CHOBE WATER VILLAS,KASEKA CONSERVANCY,MPACHA,N...   \n",
            "2  CHOBE WATER VILLAS,KASEKA CONSERVANCY,MPACHA,N...   \n",
            "3  CHOBE WATER VILLAS,KASEKA CONSERVANCY,MPACHA,N...   \n",
            "4  CHOBE WATER VILLAS,KASEKA CONSERVANCY,MPACHA,N...   \n",
            "\n",
            "                 DECLARANT NAME Origin Country Destination Country  HS CODE  \\\n",
            "0  HYPROP (PROPRIETARY) LIMITED       BOTSWANA             NAMIBIA  2012010   \n",
            "1  HYPROP (PROPRIETARY) LIMITED       BOTSWANA             NAMIBIA  4011007   \n",
            "2  HYPROP (PROPRIETARY) LIMITED       BOTSWANA             NAMIBIA  7020000   \n",
            "3  HYPROP (PROPRIETARY) LIMITED       BOTSWANA             NAMIBIA  7031000   \n",
            "4  HYPROP (PROPRIETARY) LIMITED       BOTSWANA             NAMIBIA  7039000   \n",
            "\n",
            "                                 HS CODE DESCRIPTION  ... PORT OF ENTRY  \\\n",
            "0  Wagyu beef ( other cuts with bone in, fresh or...  ...        Mpacha   \n",
            "1  Ultra high temperature (UHT) or 'long life' mi...  ...        Mpacha   \n",
            "2                         Tomatoes, fresh or chilled  ...        Mpacha   \n",
            "3              Onions and shallots, fresh or chilled  ...        Mpacha   \n",
            "4  Leeks and other alliaceous vegetables, fresh o...  ...        Mpacha   \n",
            "\n",
            "   PLACE OF DISCHARGE  CPC CODE  CPC GROUP CODE Chapter  HEADING SUB HEADING  \\\n",
            "0              Kasane     10000            1000       2      201       20120   \n",
            "1              Kasane     10000            1000       4      401       40110   \n",
            "2              Kasane     10000            1000       7      702       70200   \n",
            "3              Kasane     10000            1000       7      703       70310   \n",
            "4              Kasane     10000            1000       7      703       70390   \n",
            "\n",
            "     CPC GROUP DESCRIPTION     MONTH  YEAR  \n",
            "0  Direct permanent export  November  2019  \n",
            "1  Direct permanent export  November  2019  \n",
            "2  Direct permanent export  November  2019  \n",
            "3  Direct permanent export  November  2019  \n",
            "4  Direct permanent export  November  2019  \n",
            "\n",
            "[5 rows x 34 columns]\n"
          ]
        }
      ]
    },
    {
      "cell_type": "markdown",
      "source": [
        "**Load Data to SQLite**"
      ],
      "metadata": {
        "id": "OhQLwfqDt1UK"
      }
    },
    {
      "cell_type": "code",
      "source": [
        "import sqlite3\n",
        "import pandas as pd\n",
        "\n",
        "# File path (adjust if necessary)\n",
        "file_path = 'Import Export Trade Data Africa.csv'\n",
        "\n",
        "# Load data into a Pandas DataFrame\n",
        "data = pd.read_csv(file_path)\n",
        "\n",
        "# Create an SQLite in-memory database\n",
        "conn = sqlite3.connect(':memory:')\n",
        "data.to_sql('trade_data', conn, index=False, if_exists='replace')\n"
      ],
      "metadata": {
        "colab": {
          "base_uri": "https://localhost:8080/"
        },
        "id": "OtS3Z0TUtCLQ",
        "outputId": "da818720-cd56-47a0-8a87-bcc991c1a583"
      },
      "execution_count": 5,
      "outputs": [
        {
          "output_type": "execute_result",
          "data": {
            "text/plain": [
              "22"
            ]
          },
          "metadata": {},
          "execution_count": 5
        }
      ]
    },
    {
      "cell_type": "markdown",
      "source": [
        "**Initial Queries**"
      ],
      "metadata": {
        "id": "0oUikruFt_Wl"
      }
    },
    {
      "cell_type": "markdown",
      "source": [
        "**Explore the Structure**\n",
        "\n",
        "Checking the first few rows to ensure the data is correctly loaded."
      ],
      "metadata": {
        "id": "MUPGcw43uRwl"
      }
    },
    {
      "cell_type": "code",
      "source": [
        "query = \"SELECT * FROM trade_data LIMIT 10;\"\n",
        "print(pd.read_sql(query, conn))\n"
      ],
      "metadata": {
        "colab": {
          "base_uri": "https://localhost:8080/"
        },
        "id": "uJuhQJftuXpm",
        "outputId": "734d33cd-dd7f-4393-94d5-662968d72993"
      },
      "execution_count": 6,
      "outputs": [
        {
          "output_type": "stream",
          "name": "stdout",
          "text": [
            "         DATE    TYPE                        CPC DESCRIPTION  \\\n",
            "0  01/11/2019  Export  Direct Exports of home produced goods   \n",
            "1  01/11/2019  Export  Direct Exports of home produced goods   \n",
            "2  01/11/2019  Export  Direct Exports of home produced goods   \n",
            "3  01/11/2019  Export  Direct Exports of home produced goods   \n",
            "4  01/11/2019  Export  Direct Exports of home produced goods   \n",
            "5  01/11/2019  Export  Direct Exports of home produced goods   \n",
            "6  01/11/2019  Export  Direct Exports of home produced goods   \n",
            "7  01/11/2019  Export  Direct Exports of home produced goods   \n",
            "8  01/11/2019  Export  Direct Exports of home produced goods   \n",
            "9  01/11/2019  Export  Direct Exports of home produced goods   \n",
            "\n",
            "                                 EXPORTER NAME  \\\n",
            "0  ALVIN INVESTMENTS,PLOT 2167,KASANE,BOTSWANA   \n",
            "1  ALVIN INVESTMENTS,PLOT 2167,KASANE,BOTSWANA   \n",
            "2  ALVIN INVESTMENTS,PLOT 2167,KASANE,BOTSWANA   \n",
            "3  ALVIN INVESTMENTS,PLOT 2167,KASANE,BOTSWANA   \n",
            "4  ALVIN INVESTMENTS,PLOT 2167,KASANE,BOTSWANA   \n",
            "5  ALVIN INVESTMENTS,PLOT 2167,KASANE,BOTSWANA   \n",
            "6  ALVIN INVESTMENTS,PLOT 2167,KASANE,BOTSWANA   \n",
            "7  ALVIN INVESTMENTS,PLOT 2167,KASANE,BOTSWANA   \n",
            "8  ALVIN INVESTMENTS,PLOT 2167,KASANE,BOTSWANA   \n",
            "9  ALVIN INVESTMENTS,PLOT 2167,KASANE,BOTSWANA   \n",
            "\n",
            "                                       IMPORTER NAME  \\\n",
            "0  CHOBE WATER VILLAS,KASEKA CONSERVANCY,MPACHA,N...   \n",
            "1  CHOBE WATER VILLAS,KASEKA CONSERVANCY,MPACHA,N...   \n",
            "2  CHOBE WATER VILLAS,KASEKA CONSERVANCY,MPACHA,N...   \n",
            "3  CHOBE WATER VILLAS,KASEKA CONSERVANCY,MPACHA,N...   \n",
            "4  CHOBE WATER VILLAS,KASEKA CONSERVANCY,MPACHA,N...   \n",
            "5  CHOBE WATER VILLAS,KASEKA CONSERVANCY,MPACHA,N...   \n",
            "6  CHOBE WATER VILLAS,KASEKA CONSERVANCY,MPACHA,N...   \n",
            "7  CHOBE WATER VILLAS,KASEKA CONSERVANCY,MPACHA,N...   \n",
            "8  CHOBE WATER VILLAS,KASEKA CONSERVANCY,MPACHA,N...   \n",
            "9  CHOBE WATER VILLAS,KASEKA CONSERVANCY,MPACHA,N...   \n",
            "\n",
            "                 DECLARANT NAME Origin Country Destination Country  HS CODE  \\\n",
            "0  HYPROP (PROPRIETARY) LIMITED       BOTSWANA             NAMIBIA  2012010   \n",
            "1  HYPROP (PROPRIETARY) LIMITED       BOTSWANA             NAMIBIA  4011007   \n",
            "2  HYPROP (PROPRIETARY) LIMITED       BOTSWANA             NAMIBIA  7020000   \n",
            "3  HYPROP (PROPRIETARY) LIMITED       BOTSWANA             NAMIBIA  7031000   \n",
            "4  HYPROP (PROPRIETARY) LIMITED       BOTSWANA             NAMIBIA  7039000   \n",
            "5  HYPROP (PROPRIETARY) LIMITED       BOTSWANA             NAMIBIA  7051100   \n",
            "6  HYPROP (PROPRIETARY) LIMITED       BOTSWANA             NAMIBIA  7061000   \n",
            "7  HYPROP (PROPRIETARY) LIMITED       BOTSWANA             NAMIBIA  7070000   \n",
            "8  HYPROP (PROPRIETARY) LIMITED       BOTSWANA             NAMIBIA  7082000   \n",
            "9  HYPROP (PROPRIETARY) LIMITED       BOTSWANA             NAMIBIA  7095100   \n",
            "\n",
            "                                 HS CODE DESCRIPTION  ... PORT OF ENTRY  \\\n",
            "0  Wagyu beef ( other cuts with bone in, fresh or...  ...        Mpacha   \n",
            "1  Ultra high temperature (UHT) or 'long life' mi...  ...        Mpacha   \n",
            "2                         Tomatoes, fresh or chilled  ...        Mpacha   \n",
            "3              Onions and shallots, fresh or chilled  ...        Mpacha   \n",
            "4  Leeks and other alliaceous vegetables, fresh o...  ...        Mpacha   \n",
            "5   Cabbage lettuce (head lettuce), fresh or chilled  ...        Mpacha   \n",
            "6              Carrots and turnips, fresh or chilled  ...        Mpacha   \n",
            "7           Cucumbers and gherkins, fresh or chilled  ...        Mpacha   \n",
            "8  Beans (VIGNA SPP., PHASEOLUS SPP.), shelled or...  ...        Mpacha   \n",
            "9  Mushrooms of the genus Agaricus, fresh or chilled  ...        Mpacha   \n",
            "\n",
            "   PLACE OF DISCHARGE  CPC CODE  CPC GROUP CODE Chapter  HEADING SUB HEADING  \\\n",
            "0              Kasane     10000            1000       2      201       20120   \n",
            "1              Kasane     10000            1000       4      401       40110   \n",
            "2              Kasane     10000            1000       7      702       70200   \n",
            "3              Kasane     10000            1000       7      703       70310   \n",
            "4              Kasane     10000            1000       7      703       70390   \n",
            "5              Kasane     10000            1000       7      705       70511   \n",
            "6              Kasane     10000            1000       7      706       70610   \n",
            "7              Kasane     10000            1000       7      707       70700   \n",
            "8              Kasane     10000            1000       7      708       70820   \n",
            "9              Kasane     10000            1000       7      709       70951   \n",
            "\n",
            "     CPC GROUP DESCRIPTION     MONTH  YEAR  \n",
            "0  Direct permanent export  November  2019  \n",
            "1  Direct permanent export  November  2019  \n",
            "2  Direct permanent export  November  2019  \n",
            "3  Direct permanent export  November  2019  \n",
            "4  Direct permanent export  November  2019  \n",
            "5  Direct permanent export  November  2019  \n",
            "6  Direct permanent export  November  2019  \n",
            "7  Direct permanent export  November  2019  \n",
            "8  Direct permanent export  November  2019  \n",
            "9  Direct permanent export  November  2019  \n",
            "\n",
            "[10 rows x 34 columns]\n"
          ]
        }
      ]
    },
    {
      "cell_type": "markdown",
      "source": [
        "**Check for Missing Data**\n",
        "\n",
        "Identify columns with missing values."
      ],
      "metadata": {
        "id": "IkGNM2yruz09"
      }
    },
    {
      "cell_type": "code",
      "source": [
        "query = \"\"\"\n",
        "SELECT\n",
        "    COUNT(*) AS total_records,\n",
        "    SUM(CASE WHEN DATE IS NULL THEN 1 ELSE 0 END) AS missing_DATE,\n",
        "    SUM(CASE WHEN `EXPORTER NAME` IS NULL THEN 1 ELSE 0 END) AS missing_EXPORTER_NAME,\n",
        "    SUM(CASE WHEN `IMPORTER NAME` IS NULL THEN 1 ELSE 0 END) AS missing_IMPORTER_NAME\n",
        "FROM trade_data;\n",
        "\"\"\"\n",
        "print(pd.read_sql(query, conn))\n"
      ],
      "metadata": {
        "colab": {
          "base_uri": "https://localhost:8080/"
        },
        "id": "ZQ912lKcvaZv",
        "outputId": "fc5bdf0f-84b7-4ad2-9732-e953703f4de5"
      },
      "execution_count": 7,
      "outputs": [
        {
          "output_type": "stream",
          "name": "stdout",
          "text": [
            "   total_records  missing_DATE  missing_EXPORTER_NAME  missing_IMPORTER_NAME\n",
            "0             22             0                      0                      0\n"
          ]
        }
      ]
    },
    {
      "cell_type": "markdown",
      "source": [
        "**Summarize Trade by Exporter**\n",
        "\n",
        "Finding the total trade value and quantity for each exporter."
      ],
      "metadata": {
        "id": "jd2vBhRmvkoF"
      }
    },
    {
      "cell_type": "code",
      "source": [
        "query = \"\"\"\n",
        "SELECT\n",
        "    `EXPORTER NAME`,\n",
        "    SUM(`QUANTITY`) AS total_quantity,\n",
        "    SUM(`CUSTOMS VALUE BWP`) AS total_trade_value\n",
        "FROM trade_data\n",
        "GROUP BY `EXPORTER NAME`\n",
        "ORDER BY total_trade_value DESC\n",
        "LIMIT 10;\n",
        "\"\"\"\n",
        "print(pd.read_sql(query, conn))\n"
      ],
      "metadata": {
        "colab": {
          "base_uri": "https://localhost:8080/"
        },
        "id": "P7bTCl1-vqFQ",
        "outputId": "47f5e24f-25a5-4287-dd2f-ed85d3cdc609"
      },
      "execution_count": 8,
      "outputs": [
        {
          "output_type": "stream",
          "name": "stdout",
          "text": [
            "                                 EXPORTER NAME  total_quantity  \\\n",
            "0  ALVIN INVESTMENTS,PLOT 2167,KASANE,BOTSWANA           129.5   \n",
            "\n",
            "   total_trade_value  \n",
            "0            5799.58  \n"
          ]
        }
      ]
    },
    {
      "cell_type": "markdown",
      "source": [
        "**Analyzing Trade Trends by Month**\n",
        "\n",
        "Summarizing trade value and quantity per month."
      ],
      "metadata": {
        "id": "6DmDKjbmwJ-L"
      }
    },
    {
      "cell_type": "code",
      "source": [
        "query = \"\"\"\n",
        "SELECT\n",
        "    `YEAR`,\n",
        "    `MONTH`,\n",
        "    SUM(`CUSTOMS VALUE BWP`) AS total_trade_value,\n",
        "    SUM(`QUANTITY`) AS total_quantity\n",
        "FROM trade_data\n",
        "GROUP BY `YEAR`, `MONTH`\n",
        "ORDER BY `YEAR`, `MONTH`;\n",
        "\"\"\"\n",
        "print(pd.read_sql(query, conn))\n"
      ],
      "metadata": {
        "colab": {
          "base_uri": "https://localhost:8080/"
        },
        "id": "T5B6JkXawQve",
        "outputId": "e9a3704f-cedf-4b3b-e960-e8ded6e4c785"
      },
      "execution_count": 9,
      "outputs": [
        {
          "output_type": "stream",
          "name": "stdout",
          "text": [
            "   YEAR     MONTH  total_trade_value  total_quantity\n",
            "0  2019  November            5799.58           129.5\n"
          ]
        }
      ]
    },
    {
      "cell_type": "markdown",
      "source": [
        " **Find Top Products**\n",
        "\n",
        "Identifing the top HS Code descriptions by trade value."
      ],
      "metadata": {
        "id": "R_1LZgrsxBCR"
      }
    },
    {
      "cell_type": "code",
      "source": [
        "query = \"\"\"\n",
        "SELECT\n",
        "    `HS CODE DESCRIPTION`,\n",
        "    SUM(`CUSTOMS VALUE BWP`) AS total_trade_value,\n",
        "    SUM(`QUANTITY`) AS total_quantity\n",
        "FROM trade_data\n",
        "GROUP BY `HS CODE DESCRIPTION`\n",
        "ORDER BY total_trade_value DESC\n",
        "LIMIT 10;\n",
        "\"\"\"\n",
        "print(pd.read_sql(query, conn))\n"
      ],
      "metadata": {
        "colab": {
          "base_uri": "https://localhost:8080/"
        },
        "id": "nFeVoBL_xG6D",
        "outputId": "0d16f746-1079-413d-d43b-35590d06f6ad"
      },
      "execution_count": 10,
      "outputs": [
        {
          "output_type": "stream",
          "name": "stdout",
          "text": [
            "                                 HS CODE DESCRIPTION  total_trade_value  \\\n",
            "0  Wagyu beef ( other cuts with bone in, fresh or...            1400.00   \n",
            "1                                       Fresh Grapes            1155.00   \n",
            "2  Ultra high temperature (UHT) or 'long life' mi...             510.00   \n",
            "3                         Tomatoes, fresh or chilled             357.60   \n",
            "4  Leeks and other alliaceous vegetables, fresh o...             289.00   \n",
            "5                                      Apples, fresh             273.20   \n",
            "6  Mushrooms of the genus Agaricus, fresh or chilled             271.50   \n",
            "7                           Olives, fresh or chilled             223.85   \n",
            "8                                Other melons, fresh             187.75   \n",
            "9   Cabbage lettuce (head lettuce), fresh or chilled             183.75   \n",
            "\n",
            "   total_quantity  \n",
            "0             4.0  \n",
            "1             4.0  \n",
            "2            18.0  \n",
            "3             4.0  \n",
            "4             4.0  \n",
            "5            11.0  \n",
            "6             5.0  \n",
            "7             1.5  \n",
            "8             5.0  \n",
            "9             2.0  \n"
          ]
        }
      ]
    },
    {
      "cell_type": "markdown",
      "source": [
        "**Checking for Duplicate Records**\n",
        "\n",
        "Identify rows with duplicate data."
      ],
      "metadata": {
        "id": "pQeBwI-UxPaP"
      }
    },
    {
      "cell_type": "code",
      "source": [
        "query = \"\"\"\n",
        "SELECT\n",
        "    DATE,\n",
        "    `EXPORTER NAME`,\n",
        "    `IMPORTER NAME`,\n",
        "    `HS CODE`,\n",
        "    COUNT(*) AS duplicate_count\n",
        "FROM trade_data\n",
        "GROUP BY DATE, `EXPORTER NAME`, `IMPORTER NAME`, `HS CODE`\n",
        "HAVING duplicate_count > 1;\n",
        "\"\"\"\n",
        "print(pd.read_sql(query, conn))\n"
      ],
      "metadata": {
        "colab": {
          "base_uri": "https://localhost:8080/"
        },
        "id": "QY5IPnlJxW9O",
        "outputId": "00b42020-7630-466f-8967-f86ff543e164"
      },
      "execution_count": 11,
      "outputs": [
        {
          "output_type": "stream",
          "name": "stdout",
          "text": [
            "Empty DataFrame\n",
            "Columns: [DATE, EXPORTER NAME, IMPORTER NAME, HS CODE, duplicate_count]\n",
            "Index: []\n"
          ]
        }
      ]
    }
  ],
  "metadata": {
    "kernelspec": {
      "display_name": "sqlanalysis",
      "language": "python",
      "name": "python3"
    },
    "language_info": {
      "name": "python",
      "version": "3.12.8"
    },
    "colab": {
      "provenance": []
    }
  },
  "nbformat": 4,
  "nbformat_minor": 0
}